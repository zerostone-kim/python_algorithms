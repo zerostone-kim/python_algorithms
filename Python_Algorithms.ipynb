{
  "nbformat": 4,
  "nbformat_minor": 0,
  "metadata": {
    "colab": {
      "name": "Python_Algorithms.ipynb",
      "provenance": [],
      "authorship_tag": "ABX9TyNwwW3eJiZED96d9eo3uGZS",
      "include_colab_link": true
    },
    "kernelspec": {
      "name": "python3",
      "display_name": "Python 3"
    }
  },
  "cells": [
    {
      "cell_type": "markdown",
      "metadata": {
        "id": "view-in-github",
        "colab_type": "text"
      },
      "source": [
        "<a href=\"https://colab.research.google.com/github/zerostone-kim/python_algorithms/blob/master/Python_Algorithms.ipynb\" target=\"_parent\"><img src=\"https://colab.research.google.com/assets/colab-badge.svg\" alt=\"Open In Colab\"/></a>"
      ]
    },
    {
      "cell_type": "code",
      "metadata": {
        "id": "WBrp36m2wk-o",
        "colab_type": "code",
        "colab": {
          "base_uri": "https://localhost:8080/",
          "height": 53
        },
        "outputId": "b8813fab-d08b-4d21-ddf2-2d42b875e8b2"
      },
      "source": [
        "import math\n",
        "\n",
        "def sum_n(n):\n",
        "  sum = 0\n",
        "  for i in range(n+1):\n",
        "    sum += i\n",
        "\n",
        "  return sum\n",
        "\n",
        "\n",
        "print(sum_n(10))\n",
        "print(sum_n(100))  \n",
        "\n"
      ],
      "execution_count": 6,
      "outputs": [
        {
          "output_type": "stream",
          "text": [
            "55\n",
            "5050\n"
          ],
          "name": "stdout"
        }
      ]
    }
  ]
}